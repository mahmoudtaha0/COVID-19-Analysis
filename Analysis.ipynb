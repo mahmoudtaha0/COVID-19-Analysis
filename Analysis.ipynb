{
 "cells": [
  {
   "cell_type": "code",
   "execution_count": 2,
   "metadata": {},
   "outputs": [],
   "source": [
    "import sqlite3\n",
    "import csv\n",
    "import pandas as pd"
   ]
  },
  {
   "cell_type": "code",
   "execution_count": 3,
   "metadata": {},
   "outputs": [
    {
     "data": {
      "text/plain": [
       "78386"
      ]
     },
     "execution_count": 3,
     "metadata": {},
     "output_type": "execute_result"
    }
   ],
   "source": [
    "# Read data file\n",
    "df = pd.read_csv('COVID-19 Dataset.csv')\n",
    "\n",
    "# Create an SQLite database\n",
    "conn = sqlite3.connect('covid.db')\n",
    "\n",
    "# Load data file to SQLite\n",
    "df.to_sql('covid_pandemic', conn, if_exists='replace')"
   ]
  },
  {
   "cell_type": "code",
   "execution_count": 6,
   "metadata": {},
   "outputs": [
    {
     "name": "stdout",
     "output_type": "stream",
     "text": [
      "Empty DataFrame\n",
      "Columns: [index, Province, Country/Region, Latitude, Longitude, Date, Confirmed, Deaths, Recovered]\n",
      "Index: []\n"
     ]
    }
   ],
   "source": [
    "# Display rows containing null values\n",
    "nullValues = \"\"\"\n",
    "SELECT * FROM covid_pandemic \n",
    "WHERE \"Country/Region\" IS NULL \n",
    "OR Province IS NULL \n",
    "OR Latitude IS NULL \n",
    "OR Longitude IS NULL \n",
    "OR Date IS NULL \n",
    "OR Confirmed IS NULL \n",
    "OR Deaths IS NULL \n",
    "OR Recovered IS NULL\n",
    "\"\"\"\n",
    "results = pd.read_sql_query(nullValues, conn)\n",
    "print(results)"
   ]
  },
  {
   "cell_type": "code",
   "execution_count": 7,
   "metadata": {},
   "outputs": [],
   "source": [
    "# Replace null values' rows with 0\n",
    "replaceNull = \"\"\"\n",
    "UPDATE covid_pandemic\n",
    "SET \"Country/Region\" = '0',\n",
    "    Province = '0',\n",
    "    Latitude = 0,\n",
    "    Longitude = 0,\n",
    "    Date = '0',\n",
    "    Confirmed = 0,\n",
    "    Deaths = 0,\n",
    "    Recovered = 0\n",
    "WHERE \"Country/Region\" IS NULL\n",
    "   OR Province IS NULL\n",
    "   OR Latitude IS NULL\n",
    "   OR Longitude IS NULL\n",
    "   OR Date IS NULL\n",
    "   OR Confirmed IS NULL\n",
    "   OR Deaths IS NULL\n",
    "   OR Recovered IS NULL\n",
    "\"\"\"\n",
    "conn.execute(replaceNull)\n",
    "conn.commit()"
   ]
  },
  {
   "cell_type": "code",
   "execution_count": 10,
   "metadata": {},
   "outputs": [
    {
     "name": "stdout",
     "output_type": "stream",
     "text": [
      "   Total_number_of_rows\n",
      "0                 78386\n"
     ]
    }
   ],
   "source": [
    "# Check total number of rows\n",
    "totalRows = \"\"\"\n",
    "SELECT COUNT(*) as Total_number_of_rows FROM covid_pandemic\n",
    "\"\"\"\n",
    "count = pd.read_sql_query(totalRows, conn)\n",
    "print(count)"
   ]
  },
  {
   "cell_type": "code",
   "execution_count": null,
   "metadata": {},
   "outputs": [],
   "source": []
  }
 ],
 "metadata": {
  "kernelspec": {
   "display_name": "Python 3 (ipykernel)",
   "language": "python",
   "name": "python3"
  },
  "language_info": {
   "codemirror_mode": {
    "name": "ipython",
    "version": 3
   },
   "file_extension": ".py",
   "mimetype": "text/x-python",
   "name": "python",
   "nbconvert_exporter": "python",
   "pygments_lexer": "ipython3",
   "version": "3.11.1"
  }
 },
 "nbformat": 4,
 "nbformat_minor": 4
}
