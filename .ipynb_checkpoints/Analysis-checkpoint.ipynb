{
 "cells": [
  {
   "cell_type": "code",
   "execution_count": 24,
   "metadata": {},
   "outputs": [],
   "source": [
    "import sqlite3\n",
    "import csv\n",
    "import pandas as pd\n",
    "import numpy as np"
   ]
  },
  {
   "cell_type": "code",
   "execution_count": 76,
   "metadata": {},
   "outputs": [
    {
     "data": {
      "text/plain": [
       "78386"
      ]
     },
     "execution_count": 76,
     "metadata": {},
     "output_type": "execute_result"
    }
   ],
   "source": [
    "# Read data file\n",
    "df = pd.read_csv('COVID-19 Dataset.csv')\n",
    "\n",
    "# Convert Date from DD-MM-YYYY to YYYY-MM-DD\n",
    "df['Date'] = pd.to_datetime(df['Date'], format='%d-%m-%Y').dt.strftime('%Y-%m-%d')\n",
    "\n",
    "# Create an SQLite database\n",
    "conn = sqlite3.connect('covid.db')\n",
    "\n",
    "# Load data file to SQLite\n",
    "df.to_sql('covid_pandemic', conn, if_exists='replace')"
   ]
  },
  {
   "cell_type": "code",
   "execution_count": 120,
   "metadata": {},
   "outputs": [
    {
     "name": "stdout",
     "output_type": "stream",
     "text": [
      "Empty DataFrame\n",
      "Columns: [index, Province, Country/Region, Latitude, Longitude, Date, Confirmed, Deaths, Recovered]\n",
      "Index: []\n"
     ]
    }
   ],
   "source": [
    "# Display rows containing null values\n",
    "query1 = \"\"\"\n",
    "SELECT * FROM covid_pandemic \n",
    "WHERE \"Country/Region\" IS NULL \n",
    "OR Province IS NULL \n",
    "OR Latitude IS NULL \n",
    "OR Longitude IS NULL \n",
    "OR Date IS NULL \n",
    "OR Confirmed IS NULL \n",
    "OR Deaths IS NULL \n",
    "OR Recovered IS NULL\n",
    "\"\"\"\n",
    "results1 = pd.read_sql_query(query1, conn)\n",
    "print(results1)"
   ]
  },
  {
   "cell_type": "code",
   "execution_count": 77,
   "metadata": {},
   "outputs": [],
   "source": [
    "# Replace null values' rows with 0\n",
    "query2 = \"\"\"\n",
    "UPDATE covid_pandemic\n",
    "SET \"Country/Region\" = '0',\n",
    "    Province = '0',\n",
    "    Latitude = 0,\n",
    "    Longitude = 0,\n",
    "    Date = '0',\n",
    "    Confirmed = 0,\n",
    "    Deaths = 0,\n",
    "    Recovered = 0\n",
    "WHERE \"Country/Region\" IS NULL\n",
    "   OR Province IS NULL\n",
    "   OR Latitude IS NULL\n",
    "   OR Longitude IS NULL\n",
    "   OR Date IS NULL\n",
    "   OR Confirmed IS NULL\n",
    "   OR Deaths IS NULL\n",
    "   OR Recovered IS NULL\n",
    "\"\"\"\n",
    "conn.execute(query2)\n",
    "conn.commit()"
   ]
  },
  {
   "cell_type": "code",
   "execution_count": 80,
   "metadata": {},
   "outputs": [
    {
     "name": "stdout",
     "output_type": "stream",
     "text": [
      "   Total_Rows\n",
      "0       78386\n"
     ]
    }
   ],
   "source": [
    "# Check total number of rows\n",
    "query3 = \"\"\"\n",
    "SELECT COUNT(*) as Total_Rows FROM covid_pandemic\n",
    "\"\"\"\n",
    "count = pd.read_sql_query(query3, conn)\n",
    "print(count)"
   ]
  },
  {
   "cell_type": "code",
   "execution_count": 81,
   "metadata": {},
   "outputs": [
    {
     "name": "stdout",
     "output_type": "stream",
     "text": [
      "   start_date    end_date\n",
      "0  2020-01-22  2021-06-13\n"
     ]
    }
   ],
   "source": [
    "# start_date and end_date\n",
    "query4 = \"\"\"\n",
    "SELECT MIN(Date) AS start_date, MAX(Date) AS end_date FROM covid_pandemic\n",
    "\"\"\"\n",
    "Dates = pd.read_sql_query(query4, conn)\n",
    "print(Dates)"
   ]
  },
  {
   "cell_type": "code",
   "execution_count": 82,
   "metadata": {},
   "outputs": [
    {
     "name": "stdout",
     "output_type": "stream",
     "text": [
      "   number_of_months\n",
      "0                18\n"
     ]
    }
   ],
   "source": [
    "# Number of months present in the dataset\n",
    "query5 = \"\"\"\n",
    "SELECT COUNT(DISTINCT strftime('%Y-%m', Date)) AS number_of_months FROM covid_pandemic\n",
    "\"\"\"\n",
    "number_of_months = pd.read_sql_query(query5, conn)\n",
    "print(number_of_months)"
   ]
  },
  {
   "cell_type": "code",
   "execution_count": 83,
   "metadata": {},
   "outputs": [
    {
     "name": "stdout",
     "output_type": "stream",
     "text": [
      "   YearMonth  average_confirmed  average_deaths  average_recovered\n",
      "0    2020-01           4.145455        0.123377           0.092857\n",
      "1    2020-02          15.296014        0.593596           7.032020\n",
      "2    2020-03         161.130289        8.660662          27.873900\n",
      "3    2020-04         505.800433       41.522294         171.642208\n",
      "4    2020-05         574.849811       30.280897         318.296397\n",
      "5    2020-06         859.228139       29.817532         548.791558\n",
      "6    2020-07        1432.361123       35.109552         983.058232\n",
      "7    2020-08        1611.842899       37.536657        1299.294721\n",
      "8    2020-09        1784.587446       34.777273        1438.906710\n",
      "9    2020-10        2412.199623       36.758274        1420.643067\n",
      "10   2020-11        3592.194372       56.763420        1985.344589\n",
      "11   2020-12        4050.439673       71.218266        2497.885002\n",
      "12   2021-01        3911.228530       84.183703        1919.636992\n",
      "13   2021-02        2433.363636       69.164889        1558.391698\n",
      "14   2021-03        2916.797235       59.199832        1652.285924\n",
      "15   2021-04        4699.355195       78.438745        3074.785065\n",
      "16   2021-05        4005.254085       76.780268        4007.507750\n",
      "17   2021-06        2508.632368       66.262238        2769.449550\n"
     ]
    }
   ],
   "source": [
    "# Monthly average for confirmed, deaths, and recovered\n",
    "query5 = \"\"\"\n",
    "SELECT strftime('%Y-%m', Date) AS YearMonth,\n",
    "AVG(Confirmed) AS average_confirmed,\n",
    "AVG(Deaths) AS average_deaths,\n",
    "AVG(Recovered) AS average_recovered\n",
    "FROM covid_pandemic\n",
    "GROUP BY YearMonth\n",
    "ORDER BY YearMonth;\n",
    "\"\"\"\n",
    "monthly_average = pd.read_sql_query(query5, conn)\n",
    "print(monthly_average)"
   ]
  },
  {
   "cell_type": "code",
   "execution_count": 84,
   "metadata": {},
   "outputs": [
    {
     "name": "stdout",
     "output_type": "stream",
     "text": [
      "      Month  Deaths  DeathsFreq  Confirmed  ConfirmedFreq  Recovered  \\\n",
      "0   2020-01       0        1530          0           1373          0   \n",
      "1   2020-02       0        4374          0           3926          0   \n",
      "2   2020-03       0        3815          0           2148          0   \n",
      "3   2020-04       0        2512          0           1409          0   \n",
      "4   2020-05       0        2779          0           1607          0   \n",
      "5   2020-06       0        2745          0           1453          0   \n",
      "6   2020-07       0        2714          0           1388          0   \n",
      "7   2020-08       0        2535          0           1260          0   \n",
      "8   2020-09       0        2349          0           1282          0   \n",
      "9   2020-10       0        2355          0           1258          0   \n",
      "10  2020-11       0        2170          0           1190          0   \n",
      "11  2020-12       0        2180          0           1220          0   \n",
      "12  2021-01       0        2120          0           1200          0   \n",
      "13  2021-02       0        1867          0           1147          0   \n",
      "14  2021-03       0        2077          0           1238          0   \n",
      "15  2021-04       0        1970          0           1092          0   \n",
      "16  2021-05       0        2096          0           1294          0   \n",
      "17  2021-06       0         894          0            565          0   \n",
      "\n",
      "    RecoveredFreq  \n",
      "0            1511  \n",
      "1            4072  \n",
      "2            3868  \n",
      "3            2070  \n",
      "4            1976  \n",
      "5            2011  \n",
      "6            2018  \n",
      "7            1874  \n",
      "8            1770  \n",
      "9            1892  \n",
      "10           1750  \n",
      "11           1822  \n",
      "12           1790  \n",
      "13           1638  \n",
      "14           1932  \n",
      "15           1834  \n",
      "16           1928  \n",
      "17            853  \n"
     ]
    }
   ],
   "source": [
    "# Find most frequent value for confirmed, deaths, recovered each month\n",
    "query6 = \"\"\"\n",
    "WITH MonthlyDeathFrequency AS (\n",
    "    SELECT\n",
    "        strftime('%Y-%m', Date) AS Month,\n",
    "        Deaths,\n",
    "        COUNT(Deaths) AS FREQ,\n",
    "        ROW_NUMBER() OVER (PARTITION BY strftime('%Y-%m', Date) ORDER BY COUNT(Deaths) DESC) AS rn\n",
    "    FROM covid_pandemic\n",
    "    GROUP BY Month, Deaths\n",
    "),\n",
    "MonthlyConfirmedFrequency AS (\n",
    "    SELECT\n",
    "        strftime('%Y-%m', Date) AS Month,\n",
    "        Confirmed,\n",
    "        COUNT(Confirmed) AS FREQ,\n",
    "        ROW_NUMBER() OVER (PARTITION BY strftime('%Y-%m', Date) ORDER BY COUNT(Confirmed) DESC) AS rn\n",
    "    FROM covid_pandemic\n",
    "    GROUP BY Month, Confirmed\n",
    "),\n",
    "MonthlyRecoveredFrequency AS (\n",
    "    SELECT\n",
    "        strftime('%Y-%m', Date) AS Month,\n",
    "        Recovered,\n",
    "        COUNT(Recovered) AS FREQ,\n",
    "        ROW_NUMBER() OVER (PARTITION BY strftime('%Y-%m', Date) ORDER BY COUNT(Recovered) DESC) AS rn\n",
    "    FROM covid_pandemic\n",
    "    GROUP BY Month, Recovered\n",
    ")\n",
    "SELECT \n",
    "    df.Month, \n",
    "    df.Deaths, \n",
    "    df.FREQ AS DeathsFreq, \n",
    "    cf.Confirmed, \n",
    "    cf.FREQ AS ConfirmedFreq, \n",
    "    rf.Recovered, \n",
    "    rf.FREQ AS RecoveredFreq\n",
    "FROM MonthlyDeathFrequency df\n",
    "JOIN MonthlyConfirmedFrequency cf ON df.Month = cf.Month AND cf.rn = 1\n",
    "JOIN MonthlyRecoveredFrequency rf ON df.Month = rf.Month AND rf.rn = 1\n",
    "WHERE df.rn = 1;\n",
    "\n",
    "\"\"\"\n",
    "frequentpermonth = pd.read_sql_query(query6, conn)\n",
    "print(frequentpermonth)"
   ]
  },
  {
   "cell_type": "code",
   "execution_count": 85,
   "metadata": {},
   "outputs": [
    {
     "name": "stdout",
     "output_type": "stream",
     "text": [
      "   Year  min_confirmations  min_deaths  min_recoveries\n",
      "0  2020                  0           0               0\n",
      "1  2021                  0           0               0\n"
     ]
    }
   ],
   "source": [
    "# The minimum values for confirmed, deaths, recovered per year\n",
    "query7 = \"\"\"\n",
    "SELECT strftime('%Y', Date) AS Year, MIN(confirmed) AS min_confirmations, MIN(deaths) AS min_deaths, MIN(recovered) AS min_recoveries\n",
    "FROM covid_pandemic\n",
    "GROUP BY Year\n",
    "\"\"\"\n",
    "min_per_year = pd.read_sql_query(query7, conn)\n",
    "print(min_per_year)"
   ]
  },
  {
   "cell_type": "code",
   "execution_count": 86,
   "metadata": {},
   "outputs": [
    {
     "name": "stdout",
     "output_type": "stream",
     "text": [
      "   Year  max_confirmations  max_deaths  max_recoveries\n",
      "0  2020             823225        3752         1123456\n",
      "1  2021             414188        7374          422436\n"
     ]
    }
   ],
   "source": [
    "# The maximum values of confirmed, deaths, recovered per year\n",
    "query8 = \"\"\"\n",
    "SELECT strftime('%Y', Date) AS Year, MAX(confirmed) AS max_confirmations, MAX(deaths) AS max_deaths, MAX(recovered) AS max_recoveries\n",
    "FROM covid_pandemic\n",
    "GROUP BY Year\n",
    "\"\"\"\n",
    "max_per_year = pd.read_sql_query(query8, conn)\n",
    "print(max_per_year)"
   ]
  },
  {
   "cell_type": "code",
   "execution_count": 87,
   "metadata": {},
   "outputs": [
    {
     "name": "stdout",
     "output_type": "stream",
     "text": [
      "   YearMonth  total_confirmed  total_deaths  total_recovered\n",
      "0    2020-01             6384           190              143\n",
      "1    2020-02            68312          2651            31405\n",
      "2    2020-03           769236         41346           133070\n",
      "3    2020-04          2336798        191833           792987\n",
      "4    2020-05          2744333        144561          1519547\n",
      "5    2020-06          3969634        137757          2535417\n",
      "6    2020-07          6838092        167613          4693120\n",
      "7    2020-08          7694938        179200          6202833\n",
      "8    2020-09          8244794        160671          6647749\n",
      "9    2020-10         11515841        175484          6782150\n",
      "10   2020-11         16595938        262247          9172292\n",
      "11   2020-12         19336799        339996         11924903\n",
      "12   2021-01         18672205        401893          9164347\n",
      "13   2021-02         10492664        298239          6719785\n",
      "14   2021-03         13924790        282620          7888013\n",
      "15   2021-04         21711021        362387         14205507\n",
      "16   2021-05         19121083        366549         19131842\n",
      "17   2021-06          5022282        132657          5544438\n"
     ]
    }
   ],
   "source": [
    "# The total number of case of confirmed, deaths, recovered each month\n",
    "query9 = \"\"\"\n",
    "SELECT strftime('%Y-%m', Date) AS YearMonth, SUM(Confirmed) AS total_confirmed, SUM(Deaths) AS total_deaths, SUM(Recovered) AS total_recovered\n",
    "FROM covid_pandemic\n",
    "GROUP BY YearMonth\n",
    "\"\"\"\n",
    "number_per_month = pd.read_sql_query(query9, conn)\n",
    "print(number_per_month)"
   ]
  },
  {
   "cell_type": "code",
   "execution_count": 46,
   "metadata": {},
   "outputs": [
    {
     "name": "stdout",
     "output_type": "stream",
     "text": [
      "               Average      Variance           STD\n",
      "YearMonth                                         \n",
      "2020-01       4.145455  4.836052e+03     69.541726\n",
      "2020-02      15.296014  7.850703e+04    280.191051\n",
      "2020-03     161.130289  1.026629e+06   1013.227134\n",
      "2020-04     505.800433  7.013581e+06   2648.316704\n",
      "2020-05     574.849811  6.064851e+06   2462.691765\n",
      "2020-06     859.228139  1.378219e+07   3712.437842\n",
      "2020-07    1432.361123  4.692385e+07   6850.098680\n",
      "2020-08    1611.842899  5.441998e+07   7376.990064\n",
      "2020-09    1784.587446  6.932971e+07   8326.446123\n",
      "2020-10    2412.199623  6.900261e+07   8306.781139\n",
      "2020-11    3592.194372  1.958583e+08  13994.937348\n",
      "2020-12    4050.439673  4.599818e+08  21447.186252\n",
      "2021-01    3911.228530  3.163710e+08  17786.819944\n",
      "2021-02    2433.363636  7.960638e+07   8922.240920\n",
      "2021-03    2916.797235  8.374281e+07   9151.109600\n",
      "2021-04    4699.355195  5.011217e+08  22385.747124\n",
      "2021-05    4005.254085  6.287793e+08  25075.472447\n",
      "2021-06    2508.632368  1.109882e+08  10535.094463\n"
     ]
    }
   ],
   "source": [
    "# How corona virus spread out with respect to confirmed cases each month\n",
    "query10 = \"\"\"\n",
    "SELECT strftime('%Y-%m', Date) AS YearMonth, Confirmed\n",
    "FROM covid_pandemic\n",
    "\"\"\"\n",
    "confirmed_cases = pd.read_sql_query(query10, conn)\n",
    "grouped_cases = confirmed_cases.groupby('YearMonth')['Confirmed'].agg(Average = 'mean', Variance = 'var', STD = 'std')\n",
    "print(grouped_cases)"
   ]
  },
  {
   "cell_type": "code",
   "execution_count": 49,
   "metadata": {},
   "outputs": [
    {
     "name": "stdout",
     "output_type": "stream",
     "text": [
      "             Average       Variance         STD\n",
      "YearMonth                                      \n",
      "2020-01     0.123377       4.248576    2.061207\n",
      "2020-02     0.593596      68.337150    8.266629\n",
      "2020-03     8.660662    3901.609527   62.462865\n",
      "2020-04    41.522294   40513.037173  201.278506\n",
      "2020-05    30.280897   20689.245405  143.837566\n",
      "2020-06    29.817532   16933.110885  130.127287\n",
      "2020-07    35.109552   21144.584057  145.411774\n",
      "2020-08    37.536657   23277.872425  152.570877\n",
      "2020-09    34.777273   20107.121415  141.799582\n",
      "2020-10    36.758274   17583.754253  132.603749\n",
      "2020-11    56.763420   27779.806542  166.672753\n",
      "2020-12    71.218266   65359.059830  255.654180\n",
      "2021-01    84.183703  102779.961427  320.593140\n",
      "2021-02    69.164889   68494.756150  261.715029\n",
      "2021-03    59.199832   54397.364207  233.232425\n",
      "2021-04    78.438745   94631.954030  307.623071\n",
      "2021-05    76.780268  131797.076577  363.038671\n",
      "2021-06    66.262238  113020.126599  336.184661\n"
     ]
    }
   ],
   "source": [
    "# How corona virus spread out with respect to death cases each month\n",
    "query11 = \"\"\"\n",
    "SELECT strftime('%Y-%m', Date) AS YearMonth, Deaths\n",
    "FROM covid_pandemic\n",
    "\"\"\"\n",
    "death_cases = pd.read_sql_query(query11, conn)\n",
    "grouped_cases = death_cases.groupby('YearMonth')['Deaths'].agg(Average = 'mean', Variance = 'var', STD = 'std')\n",
    "print(grouped_cases)"
   ]
  },
  {
   "cell_type": "code",
   "execution_count": 51,
   "metadata": {},
   "outputs": [
    {
     "name": "stdout",
     "output_type": "stream",
     "text": [
      "               Average      Variance           STD\n",
      "YearMonth                                         \n",
      "2020-01       0.092857  2.635297e+00      1.623360\n",
      "2020-02       7.032020  1.244945e+04    111.577102\n",
      "2020-03      27.873900  4.012159e+04    200.303754\n",
      "2020-04     171.642208  7.700597e+05    877.530462\n",
      "2020-05     318.296397  1.978621e+06   1406.634592\n",
      "2020-06     548.791558  6.531586e+06   2555.696824\n",
      "2020-07     983.058232  2.484908e+07   4984.885449\n",
      "2020-08    1299.294721  4.017884e+07   6338.677968\n",
      "2020-09    1438.906710  5.703591e+07   7552.212383\n",
      "2020-10    1420.643067  7.374715e+07   8587.616093\n",
      "2020-11    1985.344589  5.073860e+07   7123.103344\n",
      "2020-12    2497.885002  3.267632e+08  18076.591784\n",
      "2021-01    1919.636992  3.150030e+07   5612.512665\n",
      "2021-02    1558.391698  2.443308e+07   4942.982693\n",
      "2021-03    1652.285924  3.490470e+07   5908.020232\n",
      "2021-04    3074.785065  2.244682e+08  14982.261890\n",
      "2021-05    4007.507750  7.553337e+08  27483.335860\n",
      "2021-06    2769.449550  2.331509e+08  15269.278515\n"
     ]
    }
   ],
   "source": [
    "# How corona virus spread out with respect to recovered cases each month\n",
    "query12 = \"\"\"\n",
    "SELECT strftime('%Y-%m', Date) AS YearMonth, Recovered\n",
    "FROM covid_pandemic\n",
    "\"\"\"\n",
    "recovered_cases = pd.read_sql_query(query12, conn)\n",
    "grouped_cases = recovered_cases.groupby('YearMonth')['Recovered'].agg(Average = 'mean', Variance = 'var', STD = 'std')\n",
    "print(grouped_cases)"
   ]
  },
  {
   "cell_type": "code",
   "execution_count": 72,
   "metadata": {},
   "outputs": [
    {
     "name": "stdout",
     "output_type": "stream",
     "text": [
      "  Country/Region  Confirmed_Cases\n",
      "0             US         33461982\n"
     ]
    }
   ],
   "source": [
    "# The country having highest number of the confirmed cases\n",
    "query13 = \"\"\"\n",
    "SELECT \"Country/Region\", SUM(Confirmed) AS Confirmed_Cases\n",
    "FROM covid_pandemic\n",
    "GROUP BY \"Country/Region\"\n",
    "ORDER BY Confirmed_Cases DESC LIMIT 1\n",
    "\"\"\"\n",
    "result = pd.read_sql_query(query13, conn)\n",
    "print(result)"
   ]
  },
  {
   "cell_type": "code",
   "execution_count": 73,
   "metadata": {},
   "outputs": [
    {
     "name": "stdout",
     "output_type": "stream",
     "text": [
      "  Country/Region  Death_Cases\n",
      "0       Dominica            0\n"
     ]
    }
   ],
   "source": [
    "# The country having lowest number of the death cases\n",
    "query14 = \"\"\"\n",
    "SELECT \"Country/Region\", SUM(Deaths) AS Death_Cases\n",
    "FROM covid_pandemic\n",
    "GROUP BY \"Country/Region\"\n",
    "ORDER BY Death_Cases LIMIT 1\n",
    "\"\"\"\n",
    "result = pd.read_sql_query(query14, conn)\n",
    "print(result)"
   ]
  },
  {
   "cell_type": "code",
   "execution_count": 74,
   "metadata": {},
   "outputs": [
    {
     "name": "stdout",
     "output_type": "stream",
     "text": [
      "  Country/Region  Recovered_Cases\n",
      "0          India         28089649\n",
      "1         Brazil         15400169\n",
      "2             US          6303715\n",
      "3         Turkey          5202251\n",
      "4         Russia          4745756\n"
     ]
    }
   ],
   "source": [
    "# Top 5 countries having highest recovered case\n",
    "query15 = \"\"\"\n",
    "SELECT \"Country/Region\", SUM(Recovered) AS Recovered_Cases\n",
    "FROM covid_pandemic\n",
    "GROUP BY \"Country/Region\"\n",
    "ORDER BY Recovered_Cases DESC LIMIT 5\n",
    "\"\"\"\n",
    "top_five = pd.read_sql_query(query15, conn)\n",
    "print(top_five)"
   ]
  }
 ],
 "metadata": {
  "kernelspec": {
   "display_name": "Python 3 (ipykernel)",
   "language": "python",
   "name": "python3"
  },
  "language_info": {
   "codemirror_mode": {
    "name": "ipython",
    "version": 3
   },
   "file_extension": ".py",
   "mimetype": "text/x-python",
   "name": "python",
   "nbconvert_exporter": "python",
   "pygments_lexer": "ipython3",
   "version": "3.11.1"
  }
 },
 "nbformat": 4,
 "nbformat_minor": 4
}
